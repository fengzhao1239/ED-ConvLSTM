{
 "cells": [
  {
   "cell_type": "code",
   "execution_count": 1,
   "outputs": [],
   "source": [
    "import torch\n",
    "from pathlib import Path\n",
    "import os\n",
    "from sklearn.metrics import r2_score\n",
    "import time\n",
    "import datetime\n",
    "import numpy as np\n",
    "import matplotlib.pyplot as plt\n",
    "from Model_simple import *\n",
    "from Unet_model import *\n",
    "from skimage.metrics import structural_similarity as ssim\n",
    "from skimage.metrics import normalized_root_mse as nrmse\n",
    "from skimage.metrics import mean_squared_error as mse"
   ],
   "metadata": {
    "collapsed": false,
    "ExecuteTime": {
     "end_time": "2023-11-19T19:10:29.633687Z",
     "start_time": "2023-11-19T19:10:28.370030700Z"
    }
   },
   "id": "4963b1bb6c2b22a4"
  },
  {
   "cell_type": "code",
   "execution_count": 4,
   "outputs": [],
   "source": [
    "def ax_imshow(ax_to_plot, variable, v_min, v_max):\n",
    "    variable = variable * (37970486.543 - 24e6) + 24.e6\n",
    "    variable = variable / 1e6\n",
    "    pcm = ax_to_plot.imshow(variable, cmap='jet', vmin=v_min, vmax=v_max)\n",
    "    return pcm\n",
    "\n",
    "def infer_show(ax_to_plot, ccc, ts, v_min, v_max):\n",
    "    input_tensor = torch.load(f'geo_train_p_x\\\\{ccc:>04}.pt').to(device).squeeze()\n",
    "    variable, _ = test_model(input_tensor.float().unsqueeze(0))\n",
    "    variable = variable.squeeze().detach().cpu()\n",
    "    variable = variable[ts, :, :]\n",
    "    variable = variable * (37970486.543 - 24e6) + 24.e6\n",
    "    variable = variable / 1e6\n",
    "    pcm = ax_to_plot.imshow(variable, cmap='jet', vmin=v_min, vmax=v_max)\n",
    "    return pcm\n",
    "\n",
    "def res_show(ax_to_plot, ccc, ts, v_min=0, v_max=0.2):\n",
    "    input_tensor = torch.load(f'geo_train_p_x\\\\{ccc:>04}.pt').to(device).squeeze()\n",
    "    variable, _ = test_model(input_tensor.float().unsqueeze(0))\n",
    "    variable = variable.squeeze().detach().cpu()\n",
    "    variable = variable[ts, :, :]\n",
    "    variable = variable * (37970486.543 - 24e6) + 24.e6\n",
    "    variable = variable / 1e6\n",
    "    \n",
    "    p_path = Path(f'C:\\\\dynamic\\\\fffinal\\\\deep_test_tensors\\\\test_geo\\\\label_p')\n",
    "    target = torch.load(p_path / f'{ccc:>04}_{(ts+1)*30:.1f}_label_p.pt')\n",
    "    target = target * (37970486.543 - 24e6) + 24.e6\n",
    "    target = target / 1e6\n",
    "    target, variable = target.numpy(), variable.numpy()\n",
    "    data_range = np.max(target) - np.min(target)\n",
    "    # v2 = ssim(target, variable, data_range=data_range, gaussian_weights=True, sigma=1.5)\n",
    "    v2 = ssim(target, variable, data_range=1.0)\n",
    "    v1 = r2_score(target.flatten(), variable.flatten(), multioutput='variance_weighted')\n",
    "    res = np.abs(target - variable)/(np.max(target) - np.min(target))\n",
    "    pcm = ax_to_plot.imshow(res, cmap='jet', vmin=v_min, vmax=v_max)\n",
    "    t = ax_to_plot.text(1.5, 9.5, f'$R^2$={v1:.3f}\\nSSIM={v2:.3f}', c='white')\n",
    "    t.set_fontsize(16)\n",
    "    t.set_fontweight('semibold')\n",
    "    return pcm\n",
    "\n",
    "\n",
    "def u_infer(ax_to_plot, bbb, ts, v_min, v_max):\n",
    "    device = torch.device('cuda')\n",
    "    input_tensor = torch.load(f'geo_Unet_train_p_x\\\\{bbb:>04}_{ts}.pt').to(device).unsqueeze(0)\n",
    "    u_model = UNET(in_channels=4, out_channels=1).float().to(device)\n",
    "    u_model.load_state_dict(torch.load(f'Unet_model_weights_10.12_p.pth', map_location=device))    # [notice] match !!\n",
    "    u_model.eval()\n",
    "    pred = u_model(input_tensor).squeeze().detach().cpu()\n",
    "    target = torch.load(f'geo_Unet_train_p_y\\\\{bbb:>04}_{ts}.pt').squeeze()\n",
    "    pred = pred * (37970486.543 - 24e6) + 24.e6\n",
    "    pred = pred / 1e6\n",
    "    target = target * (37970486.543 - 24e6) + 24.e6\n",
    "    target = target / 1e6\n",
    "    res = (torch.abs(target - pred) / target) * 100\n",
    "    pcm = ax_to_plot.imshow(pred, cmap='jet', vmin=v_min, vmax=v_max)\n",
    "    return pcm\n",
    "\n",
    "def u_res(ax_to_plot, bbb, ts, v_min=0, v_max=0.2):\n",
    "    device = torch.device('cuda')\n",
    "    input_tensor = torch.load(f'geo_Unet_train_p_x\\\\{bbb:>04}_{ts}.pt').to(device).unsqueeze(0)\n",
    "    u_model = UNET(in_channels=4, out_channels=1).float().to(device)\n",
    "    u_model.load_state_dict(torch.load(f'Unet_model_weights_10.12_p.pth', map_location=device))    # [notice] match !!\n",
    "    u_model.eval()\n",
    "    pred = u_model(input_tensor).squeeze().detach().cpu()\n",
    "    target = torch.load(f'geo_Unet_train_p_y\\\\{bbb:>04}_{ts}.pt').squeeze()\n",
    "    pred = pred * (37970486.543 - 24e6) + 24.e6\n",
    "    pred = pred / 1e6\n",
    "    target = target * (37970486.543 - 24e6) + 24.e6\n",
    "    target = target / 1e6\n",
    "    res = torch.abs(target - pred)/(torch.max(target) - torch.min(target))\n",
    "    pcm = ax_to_plot.imshow(res, cmap='jet', vmin=v_min, vmax=v_max)\n",
    "    target, pred = target.numpy(), pred.numpy()\n",
    "    data_range = np.max(target) - np.min(target)\n",
    "    # v2 = ssim(target, pred, data_range=data_range, gaussian_weights=True, sigma=1.5)\n",
    "    v2 = ssim(target, pred, data_range=1.0)\n",
    "    v1 = r2_score(target.flatten(), pred.flatten(), multioutput='variance_weighted')\n",
    "    t = ax_to_plot.text(1.5, 9.5, f'$R^2$={v1:.3f}\\nSSIM={v2:.3f}', c='white')\n",
    "    t.set_fontsize(16)\n",
    "    t.set_fontweight('semibold')\n",
    "    return pcm"
   ],
   "metadata": {
    "collapsed": false,
    "ExecuteTime": {
     "end_time": "2023-11-19T19:10:56.135626Z",
     "start_time": "2023-11-19T19:10:56.094106700Z"
    }
   },
   "id": "36789699fedaca6d"
  },
  {
   "cell_type": "code",
   "execution_count": 3,
   "outputs": [
    {
     "name": "stdout",
     "output_type": "stream",
     "text": [
      "done\n"
     ]
    }
   ],
   "source": [
    "device = torch.device('cuda')\n",
    "test_model = InceptionLSTM(3, 1, 128, 60, 0.3).float().to(device)\n",
    "test_model.load_state_dict(torch.load(f'model_weights_10.25-22.21_p@85.pth', map_location=device))    # [notice] match !!\n",
    "test_model.eval()\n",
    "print('done')"
   ],
   "metadata": {
    "collapsed": false,
    "ExecuteTime": {
     "end_time": "2023-11-19T19:10:43.976771100Z",
     "start_time": "2023-11-19T19:10:43.788875Z"
    }
   },
   "id": "ac16c7987e293199"
  },
  {
   "cell_type": "code",
   "execution_count": 7,
   "outputs": [
    {
     "name": "stderr",
     "output_type": "stream",
     "text": [
      "C:\\Users\\pc\\AppData\\Local\\Temp\\ipykernel_11784\\4266186909.py:49: UserWarning: set_ticklabels() should only be used with a fixed number of ticks, i.e. after set_ticks() or using a FixedLocator.\n",
      "  cbar1.ax.set_yticklabels([\"{:.1%}\".format(i) for i in cbar1.get_ticks()])\n"
     ]
    }
   ],
   "source": [
    "fig, axs = plt.subplots(5, 5, figsize=(23.2, 18), dpi=300, layout='constrained')\n",
    "\n",
    "for ax in axs.flatten():\n",
    "    ax.set_xticks([])\n",
    "    ax.set_yticks([])\n",
    "    \n",
    "    \n",
    "p_path = Path(f'C:\\\\dynamic\\\\fffinal\\\\deep_test_tensors\\\\test_geo\\\\label_p')\n",
    "\n",
    "case_num = 8007\n",
    "v1_min = 24.0\n",
    "v1_max = 27.0\n",
    "\n",
    "pcm = ax_imshow(axs[0, 0], torch.load(p_path / f'{case_num:>04}_360.0_label_p.pt'), v1_min, v1_max)\n",
    "_ = ax_imshow(axs[0, 1], torch.load(p_path / f'{case_num:>04}_720.0_label_p.pt'), v1_min, v1_max)\n",
    "_ = ax_imshow(axs[0, 2], torch.load(p_path / f'{case_num:>04}_1080.0_label_p.pt'), v1_min, v1_max)\n",
    "_ = ax_imshow(axs[0, 3], torch.load(p_path / f'{case_num:>04}_1440.0_label_p.pt'), v1_min, v1_max)\n",
    "_ = ax_imshow(axs[0, 4], torch.load(p_path / f'{case_num:>04}_1800.0_label_p.pt'), v1_min, v1_max)\n",
    "\n",
    "_ = infer_show(axs[1, 0], case_num, 11, v1_min, v1_max)\n",
    "_ = infer_show(axs[1, 1], case_num, 23, v1_min, v1_max)\n",
    "_ = infer_show(axs[1, 2], case_num, 35, v1_min, v1_max)\n",
    "_ = infer_show(axs[1, 3], case_num, 47, v1_min, v1_max)\n",
    "_ = infer_show(axs[1, 4], case_num, 59, v1_min, v1_max)\n",
    "\n",
    "_ = u_infer(axs[2, 0], case_num, 11, v1_min, v1_max)\n",
    "_ = u_infer(axs[2, 1], case_num, 23, v1_min, v1_max)\n",
    "_ = u_infer(axs[2, 2], case_num, 35, v1_min, v1_max)\n",
    "_ = u_infer(axs[2, 3], case_num, 47, v1_min, v1_max)\n",
    "_ = u_infer(axs[2, 4], case_num, 59, v1_min, v1_max)\n",
    "\n",
    "res_pcm = res_show(axs[3, 0], case_num, 11,)\n",
    "_ = res_show(axs[3, 1], case_num, 23,)\n",
    "_ = res_show(axs[3, 2], case_num, 35,)\n",
    "_ = res_show(axs[3, 3], case_num, 47,)\n",
    "_ = res_show(axs[3, 4], case_num, 59,)\n",
    "\n",
    "_ = u_res(axs[4, 0], case_num, 11)\n",
    "_ = u_res(axs[4, 1], case_num, 23)\n",
    "_ = u_res(axs[4, 2], case_num, 35)\n",
    "_ = u_res(axs[4, 3], case_num, 47)\n",
    "_ = u_res(axs[4, 4], case_num, 59)\n",
    "\n",
    "\n",
    "cbar1 = fig.colorbar(res_pcm, ax=axs.ravel().tolist(), shrink=0.55)\n",
    "cbar2 = fig.colorbar(pcm, ax=axs.ravel().tolist(), shrink=0.55)\n",
    "cbar1.ax.tick_params(labelsize=30)\n",
    "cbar2.ax.tick_params(labelsize=30)\n",
    "cbar1.ax.set_yticklabels([\"{:.1%}\".format(i) for i in cbar1.get_ticks()])\n",
    "plt.savefig('chutu\\\\pre_geo.tiff', dpi=600, bbox_inches='tight', pad_inches=0.1)\n",
    "plt.close()"
   ],
   "metadata": {
    "collapsed": false,
    "ExecuteTime": {
     "end_time": "2023-11-19T19:13:37.234034200Z",
     "start_time": "2023-11-19T19:13:22.923504900Z"
    }
   },
   "id": "29cd5d4ed42dacfb"
  }
 ],
 "metadata": {
  "kernelspec": {
   "display_name": "Python 3",
   "language": "python",
   "name": "python3"
  },
  "language_info": {
   "codemirror_mode": {
    "name": "ipython",
    "version": 2
   },
   "file_extension": ".py",
   "mimetype": "text/x-python",
   "name": "python",
   "nbconvert_exporter": "python",
   "pygments_lexer": "ipython2",
   "version": "2.7.6"
  }
 },
 "nbformat": 4,
 "nbformat_minor": 5
}

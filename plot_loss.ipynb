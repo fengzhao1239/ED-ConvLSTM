{
 "cells": [
  {
   "cell_type": "code",
   "execution_count": 5,
   "id": "initial_id",
   "metadata": {
    "collapsed": true,
    "ExecuteTime": {
     "end_time": "2023-11-20T11:03:43.675737400Z",
     "start_time": "2023-11-20T11:03:43.669989Z"
    }
   },
   "outputs": [],
   "source": [
    "import matplotlib.pyplot as plt\n",
    "import numpy as np\n",
    "plt.style.use('default')"
   ]
  },
  {
   "cell_type": "code",
   "execution_count": 9,
   "outputs": [],
   "source": [
    "train = np.loadtxt('training_metric_s_10.30-15.28.txt')[1:]\n",
    "val = np.loadtxt('testing_metric_s_10.30-15.28.txt')[1:]\n",
    "u_train = np.loadtxt('Unet_training_metric_s.txt')[1:]\n",
    "u_val = np.loadtxt('Unet_testing_metric_s.txt')[1:]\n",
    "\n",
    "plt.figure(figsize=(5,4), dpi=1000)\n",
    "\n",
    "xx = np.arange(1, 100)\n",
    "plt.xlim(1, 100)\n",
    "plt.plot(xx, train, label='Training $R^2$ (ED-ConvLSTM)', lw=1, c='orangered', ls='-')\n",
    "plt.plot(xx, val, label='Validation $R^2$ (ED-ConvLSTM)', lw=1, c='orangered', ls='--')\n",
    "plt.plot(xx, u_train, label='Training $R^2$ (U-Net)', lw=1, ls='-', c='royalblue')\n",
    "plt.plot(xx, u_val, label='Validation $R^2$ (U-Net)', lw=1, ls='--', c='royalblue')\n",
    "\n",
    "ax = plt.gca()\n",
    "ax.yaxis.set_major_locator(plt.MultipleLocator(0.02))\n",
    "plt.legend(fontsize=10, loc='lower right')\n",
    "plt.ylim(top=1)\n",
    "plt.xlabel('Epoch', fontsize=12)\n",
    "plt.ylabel('$R^2$ Score', fontsize=12)\n",
    "# plt.title('Pressure')\n",
    "plt.grid(ls='-', lw=0.5, alpha=0.5, which='both', axis='both')\n",
    "plt.savefig('chutu\\\\loss_sat.tiff', dpi=1000, bbox_inches='tight', pad_inches=0.1)\n",
    "plt.close()"
   ],
   "metadata": {
    "collapsed": false,
    "ExecuteTime": {
     "end_time": "2023-11-20T11:05:04.380460500Z",
     "start_time": "2023-11-20T11:05:04.086423600Z"
    }
   },
   "id": "33d2851d87c1c79"
  },
  {
   "cell_type": "code",
   "execution_count": null,
   "outputs": [],
   "source": [],
   "metadata": {
    "collapsed": false
   },
   "id": "67944fc257bb1330"
  }
 ],
 "metadata": {
  "kernelspec": {
   "display_name": "Python 3",
   "language": "python",
   "name": "python3"
  },
  "language_info": {
   "codemirror_mode": {
    "name": "ipython",
    "version": 2
   },
   "file_extension": ".py",
   "mimetype": "text/x-python",
   "name": "python",
   "nbconvert_exporter": "python",
   "pygments_lexer": "ipython2",
   "version": "2.7.6"
  }
 },
 "nbformat": 4,
 "nbformat_minor": 5
}
